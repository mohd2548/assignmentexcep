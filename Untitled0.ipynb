{
  "nbformat": 4,
  "nbformat_minor": 0,
  "metadata": {
    "colab": {
      "provenance": []
    },
    "kernelspec": {
      "name": "python3",
      "display_name": "Python 3"
    },
    "language_info": {
      "name": "python"
    }
  },
  "cells": [
    {
      "cell_type": "code",
      "source": [
        "# Q.4 Write a Python program using multithreading where one\n",
        "# thread adds numbers to a list, and another thread removes numbers\n",
        "# from the list. Implement a mechanism to avoid race conditions using\n",
        "# threading.Lock.\n",
        "\n"
      ],
      "metadata": {
        "id": "sM7oe70D7WLX"
      },
      "execution_count": null,
      "outputs": []
    },
    {
      "cell_type": "code",
      "execution_count": 1,
      "metadata": {
        "colab": {
          "base_uri": "https://localhost:8080/"
        },
        "id": "R5YqN0mK5wwe",
        "outputId": "f00d5aea-09d0-4f16-c976-77d74224a72e"
      },
      "outputs": [
        {
          "output_type": "stream",
          "name": "stdout",
          "text": [
            "Added 28 to the list.\n",
            "Removed 28 from the list.\n",
            "Added 6 to the list.\n",
            "Removed 6 from the list.\n",
            "Added 46 to the list.\n",
            "Added 87 to the list.\n",
            "Removed 46 from the list.\n",
            "Added 7 to the list.\n",
            "Removed 87 from the list.\n",
            "Added 63 to the list.\n",
            "Added 93 to the list.\n",
            "Removed 7 from the list.\n",
            "Added 45 to the list.\n",
            "Removed 63 from the list.\n",
            "Added 36 to the list.\n",
            "Added 74 to the list.\n",
            "Removed 93 from the list.\n",
            "Removed 45 from the list.\n",
            "Removed 36 from the list.\n",
            "Removed 74 from the list.\n",
            "Final list: []\n"
          ]
        }
      ],
      "source": [
        "import threading\n",
        "import time\n",
        "import random\n",
        "\n",
        "shared_list = []\n",
        "lock = threading.Lock()\n",
        "\n",
        "def add_numbers():\n",
        "    for _ in range(10):\n",
        "        number = random.randint(1, 100)\n",
        "        with lock:\n",
        "            shared_list.append(number)\n",
        "            print(f\"Added {number} to the list.\")\n",
        "        time.sleep(0.1)\n",
        "\n",
        "def remove_numbers():\n",
        "    for _ in range(10):\n",
        "        with lock:\n",
        "            if shared_list:\n",
        "                removed_number = shared_list.pop(0)\n",
        "                print(f\"Removed {removed_number} from the list.\")\n",
        "            else:\n",
        "                print(\"List is empty; nothing to remove.\")\n",
        "        time.sleep(0.15)\n",
        "\n",
        "thread1 = threading.Thread(target=add_numbers)\n",
        "thread2 = threading.Thread(target=remove_numbers)\n",
        "\n",
        "thread1.start()\n",
        "thread2.start()\n",
        "\n",
        "thread1.join()\n",
        "thread2.join()\n",
        "\n",
        "print(\"Final list:\", shared_list)\n"
      ]
    },
    {
      "cell_type": "code",
      "source": [
        "# #  Create a program that uses a thread pool to calculate the factorial\n",
        "# of numbers from 1 to 10 concurrently.Use concurrent.futures.\n",
        "# ThreadPoolExecutor to manage the threads."
      ],
      "metadata": {
        "id": "QDK2BZUp54D_"
      },
      "execution_count": 2,
      "outputs": []
    },
    {
      "cell_type": "code",
      "source": [
        "from concurrent.futures import ThreadPoolExecutor, as_completed\n",
        "from math import factorial\n",
        "\n",
        "def calculate_factorial(n):\n",
        "    return factorial(n)\n",
        "\n",
        "if __name__ == \"__main__\":\n",
        "    numbers = range(1, 11)\n",
        "    results = {}\n",
        "\n",
        "    with ThreadPoolExecutor(max_workers=5) as executor:\n",
        "        futures = {executor.submit(calculate_factorial, num): num for num in numbers}\n",
        "\n",
        "        for future in as_completed(futures):\n",
        "            num = futures[future]\n",
        "            try:\n",
        "                result = future.result()\n",
        "                results[num] = result\n",
        "                print(f\"Factorial of {num} is {result}\")\n",
        "            except Exception as e:\n",
        "                print(f\"An error occurred calculating factorial of {num}: {e}\")\n",
        "\n",
        "    print(\"\\nFinal Results:\")\n",
        "    for num in sorted(results):\n",
        "        print(f\"Factorial of {num} = {results[num]}\")\n"
      ],
      "metadata": {
        "colab": {
          "base_uri": "https://localhost:8080/"
        },
        "id": "XUWo_W2n9Jeu",
        "outputId": "949496bf-527c-458e-bf6d-f8eb00cd800d"
      },
      "execution_count": 3,
      "outputs": [
        {
          "output_type": "stream",
          "name": "stdout",
          "text": [
            "Factorial of 4 is 24\n",
            "Factorial of 2 is 2\n",
            "Factorial of 7 is 5040\n",
            "Factorial of 9 is 362880\n",
            "Factorial of 8 is 40320\n",
            "Factorial of 10 is 3628800\n",
            "Factorial of 3 is 6\n",
            "Factorial of 6 is 720\n",
            "Factorial of 5 is 120\n",
            "Factorial of 1 is 1\n",
            "\n",
            "Final Results:\n",
            "Factorial of 1 = 1\n",
            "Factorial of 2 = 2\n",
            "Factorial of 3 = 6\n",
            "Factorial of 4 = 24\n",
            "Factorial of 5 = 120\n",
            "Factorial of 6 = 720\n",
            "Factorial of 7 = 5040\n",
            "Factorial of 8 = 40320\n",
            "Factorial of 9 = 362880\n",
            "Factorial of 10 = 3628800\n"
          ]
        }
      ]
    },
    {
      "cell_type": "code",
      "source": [
        "#  Create a Python program that uses multiprocessing.Pool to compute the square of numbers from 1 to 10 in parallel.\n",
        "#  Measure the time taken to perform this computation using a pool of different sizes (e.g., 2, 4, 8 processes)."
      ],
      "metadata": {
        "id": "eMbLSubz9Y0X"
      },
      "execution_count": 4,
      "outputs": []
    },
    {
      "cell_type": "code",
      "source": [
        "import multiprocessing\n",
        "import time\n",
        "\n",
        "def square(num):\n",
        "    return num * num\n",
        "\n",
        "def measure_time(pool_size, numbers):\n",
        "    with multiprocessing.Pool(processes=pool_size) as pool:\n",
        "        start_time = time.time()\n",
        "        results = pool.map(square, numbers)\n",
        "        end_time = time.time()\n",
        "\n",
        "        print(f\"Pool size: {pool_size}, Time taken: {end_time - start_time:.4f} seconds\")\n",
        "        print(f\"Results: {results}\\n\")\n",
        "\n",
        "if __name__ == \"__main__\":\n",
        "    numbers = list(range(1, 11))\n",
        "\n",
        "    for pool_size in [2, 4, 8]:\n",
        "        measure_time(pool_size, numbers)\n"
      ],
      "metadata": {
        "colab": {
          "base_uri": "https://localhost:8080/"
        },
        "id": "rmWwM-kh9ki2",
        "outputId": "24eedd04-ad88-4770-c067-78e166430563"
      },
      "execution_count": 5,
      "outputs": [
        {
          "output_type": "stream",
          "name": "stdout",
          "text": [
            "Pool size: 2, Time taken: 0.0022 seconds\n",
            "Results: [1, 4, 9, 16, 25, 36, 49, 64, 81, 100]\n",
            "\n",
            "Pool size: 4, Time taken: 0.0025 seconds\n",
            "Results: [1, 4, 9, 16, 25, 36, 49, 64, 81, 100]\n",
            "\n",
            "Pool size: 8, Time taken: 0.0029 seconds\n",
            "Results: [1, 4, 9, 16, 25, 36, 49, 64, 81, 100]\n",
            "\n"
          ]
        }
      ]
    },
    {
      "cell_type": "code",
      "source": [],
      "metadata": {
        "id": "RNxxCqYx9-BH"
      },
      "execution_count": null,
      "outputs": []
    }
  ]
}